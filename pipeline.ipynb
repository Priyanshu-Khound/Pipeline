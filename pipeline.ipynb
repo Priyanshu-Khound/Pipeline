{
 "cells": [
  {
   "cell_type": "code",
   "execution_count": null,
   "id": "e602e52a",
   "metadata": {},
   "outputs": [],
   "source": [
    "import pandas as pd\n",
    "import matplotlib.pyplot as plt\n",
    "import seaborn as sns\n",
    "from sklearn.preprocessing import LabelEncoder\n",
    "from datetime import datetime, date"
   ]
  },
  {
   "cell_type": "code",
   "execution_count": null,
   "id": "a493017b",
   "metadata": {},
   "outputs": [],
   "source": [
    "def load(file_name):\n",
    "    df = pd.read_csv(file_name)\n",
    "    return df"
   ]
  },
  {
   "cell_type": "code",
   "execution_count": null,
   "id": "1df3ced4",
   "metadata": {},
   "outputs": [],
   "source": [
    "def remove(df):\n",
    "    columns = tuple(df.columns[6:])\n",
    "    df.columns = ('Sex','DOB','SmpType','Month','HOSNAME','ORGANISM')+columns\n",
    "    df = df[(df['organism']!='Normal Pharyngeal Flora S') & (df['organism']!='Coagulase-Negative Staphy') &\n",
    "          (df['organism']!='Bacillus sp. Suggestive o') & (df['organism']!='Polymicrobial Growth Sugg')]\n",
    "    df = df[~df['organism'].isin(['No Organism','No Pathogen'])]\n",
    "    df = df.fillna('-')\n",
    "    \n",
    "    return df"
   ]
  },
  {
   "cell_type": "code",
   "execution_count": null,
   "id": "cdf07991",
   "metadata": {},
   "outputs": [],
   "source": [
    "def clean(df):\n",
    "    def age(dob):\n",
    "        dob = datetime.strptime(dob, \"%d-%m-%Y\").date()\n",
    "        today = date.today()\n",
    "        return today.year - dob.year - ((today.month, \n",
    "                                          today.day) < (dob.month, \n",
    "                                                        dob.day))\n",
    "\n",
    "    df['Age'] = df['dob'].apply(age)\n",
    "    \n",
    "    en = LabelEncoder()\n",
    "    df['smpno'] = en.fit_transform(df['smptype'])\n",
    "    return df"
   ]
  },
  {
   "cell_type": "code",
   "execution_count": null,
   "id": "6ce61cf0",
   "metadata": {},
   "outputs": [],
   "source": [
    "def aggregate(df,org,month):\n",
    "    d = df[df['organism']==org]\n",
    "    d = d[d['Month']==month]\n",
    "    new_df = pd.DataFrame()\n",
    "    new_df['organism'] = [org]*3\n",
    "    new_df['Sensitivity'] = ['R','I','S']\n",
    "    for i in d.columns[7:]:\n",
    "            try:\n",
    "                check = d[i].value_counts()[0]\n",
    "            except:\n",
    "                continue\n",
    "            sum = 0\n",
    "            try:\n",
    "                sum = sum + d[i].value_counts()['R']\n",
    "            except:\n",
    "                pass\n",
    "            try:\n",
    "                sum = sum + d[i].value_counts()['S']\n",
    "            except:\n",
    "                pass\n",
    "            try:\n",
    "                sum = sum + d[i].value_counts()['I']\n",
    "            except:\n",
    "                pass\n",
    "            try:\n",
    "                R = (d[i].value_counts()['R']/sum)*100\n",
    "            except:\n",
    "                R = 0\n",
    "            try:\n",
    "                S = (d[i].value_counts()['S']/sum)*100\n",
    "            except:\n",
    "                S = 0\n",
    "            try:\n",
    "                I = (d[i].value_counts()['I']/sum)*100\n",
    "            except:\n",
    "                I = 0\n",
    "\n",
    "            new_df[i] = [R,I,S]\n",
    "            \n",
    "            return new_df"
   ]
  },
  {
   "cell_type": "code",
   "execution_count": null,
   "id": "3704bdf9",
   "metadata": {},
   "outputs": [],
   "source": [
    "def info(df):\n",
    "    sns.histplot(df['Age'],kde=True,bins=df['Age'].nunique())\n",
    "    plt.xlim(left=0)\n",
    "    plt.title('Age Distribution')\n",
    "    plt.show()\n",
    "    \n",
    "    sns.barplot(df['sex'].value_counts().index,df['sex'].value_counts())\n",
    "    plt.title('Gender Distribution')\n",
    "    plt.show()\n",
    "    \n",
    "    plt.figure(figsize=(15,8))\n",
    "    ax = sns.barplot(df['organism'].value_counts().index,df['organism'].value_counts())\n",
    "    ax.set_xticklabels(ax.get_xticklabels(), rotation=40, ha=\"right\")\n",
    "    plt.tight_layout()\n",
    "    plt.title('Organism Distribution')\n",
    "    plt.show()"
   ]
  },
  {
   "cell_type": "code",
   "execution_count": null,
   "id": "2c0b4b82",
   "metadata": {},
   "outputs": [],
   "source": [
    "def sample(df, i):\n",
    "    plt.pie(df[df['organism']==i]['smpno'].value_counts(),\n",
    "        labels=df[df['organism']==i]['smptype'].unique(),\n",
    "        autopct=lambda p: \"{:.0f}%\".format(p) if p > 1 else None\n",
    "        ,textprops={'fontsize': 6})\n",
    "    plt.title('Sample Distribution for '+i)\n",
    "    plt.show()"
   ]
  },
  {
   "cell_type": "code",
   "execution_count": null,
   "id": "7ffd6fa2",
   "metadata": {},
   "outputs": [],
   "source": [
    "def ResistanceHeatmap(df,i,month):\n",
    "    df = aggregate(df,i,month)\n",
    "    df = df.round(0)\n",
    "    text = np.array([df.iloc[0,1:],df.iloc[1,1:],df.iloc[2,1:]])\n",
    "    df = df.replace(['R','I','S'],[1,2,3])\n",
    "    plt.figure(figsize=(15,1)) \n",
    "    sns.heatmap(df.iloc[:,1:],annot=text,fmt='',cmap='Reds',yticklabels=False)\n",
    "    n = df['organism'][0]\n",
    "    plt.title(f'Resistance Heatmap of {i} in month of {month}')\n",
    "    plt.show()"
   ]
  },
  {
   "cell_type": "code",
   "execution_count": null,
   "id": "16f16d6d",
   "metadata": {},
   "outputs": [],
   "source": [
    "file_name = ''\n",
    "df = load(file_name)\n",
    "df = remove(df)\n",
    "df = clean(df)\n",
    "info(df)\n",
    "\n",
    "organsims = ['Pseudomonas aeruginosa','Acinetobacter baumannii','Klebsiella pneumoniae ss.',\n",
    "            'Enterococcus faecalis','Staphylococcus aureus','Escherichia coli']\n",
    "for i in organisms:\n",
    "    ResistanceHeatmap(df,i,'MAY')\n",
    "    ResistanceHeatmap(df,i,'JUNE')"
   ]
  }
 ],
 "metadata": {
  "kernelspec": {
   "display_name": "Python 3 (ipykernel)",
   "language": "python",
   "name": "python3"
  },
  "language_info": {
   "codemirror_mode": {
    "name": "ipython",
    "version": 3
   },
   "file_extension": ".py",
   "mimetype": "text/x-python",
   "name": "python",
   "nbconvert_exporter": "python",
   "pygments_lexer": "ipython3",
   "version": "3.9.7"
  }
 },
 "nbformat": 4,
 "nbformat_minor": 5
}
